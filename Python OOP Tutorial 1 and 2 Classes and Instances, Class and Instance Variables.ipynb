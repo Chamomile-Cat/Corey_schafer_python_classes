{
 "cells": [
  {
   "cell_type": "markdown",
   "metadata": {},
   "source": [
    "# Notes\n",
    " - Classes are a logical blueprint of data and functions for programmers to reuse, create, and modify objects.\n",
    " - Objects created using a certain class are the instances of said class. For example, say the class student was used to create an object \"Jake\", who is a student in the class. Here, \"Jake\" is an instance of the class student. \n",
    " - Differentiating between classes and instances are important for understanding class variables and instance variables.  \n",
    " - Classes help remove redundancy, and therefore, mistakes in code. \n",
    "\n",
    " - Methods are functions related to a certain class.\n",
    " - Attributes are data related to a certain class.  \n",
    "\n",
    " - Instance variables are variables that are unique to each instance. For example, for the class studnet, age, name, and math score might be instancce variables. Class variables are variables that are given the same across all instances (at the very begining at least). For example, for the class the instructor might be a class variable. The instructor is the same across all students.  \n",
    " - Class variables are needed to add or change something that applies across all instances. Class variables are also used in methods. Should the variable need change, class variables can explicitly and easily changed while numbers or strings in methods might not. BE EASILY ACCESSED. For example, the instructor might be needed to print out in a method that returns the email address of the teacher. Should the instructor change, the instructor simply needs to be changed rather than the whole e-mail address. For example, the curve might be needed to be changed in the method that calculates the curve score. Using a class method the curve can easily be accessed and changed.\n",
    " - Need to be careful with instance variables b/c even if same value, two instance variables for two different instances are two difference objects. \n",
    "\n",
    " - Self is another name for instance in class.\n",
    " - The self is passed in automatically when defining a method in a class. Therefore, the first argument for any method in a class needs to be self. If not, an error occurs. \n",
    " - The purpose of init is to instantiate (that is, create) instance variables for an instance. The examples for doing so are practiced below.  \n",
    "\n",
    " - Methods in classes record any movement (changes with/to obejects) we might wish to do. It is sort of like a macro on excel. \n",
    " - Remeber to always include the self as the first argument of all methods. The self automatically gets passed into any method which is created. Not including self shall result in a typeerror. \n",
    "\n",
    " - There are two ways to run a method. One is by calling the function onto a instance. Remember that using this method  requires a () at the end. The other is to call the funciton from the class and pass the instance into it. The former becomes translated to the latter when running. This translation is important for understanding inheritance later down the line. "
   ]
  },
  {
   "cell_type": "code",
   "execution_count": 1,
   "metadata": {},
   "outputs": [],
   "source": [
    "# How to skip classes\n",
    "# Example situation: Creating students for math class  \n",
    "\n",
    "class students():\n",
    "    pass"
   ]
  },
  {
   "cell_type": "code",
   "execution_count": 5,
   "metadata": {},
   "outputs": [
    {
     "name": "stdout",
     "output_type": "stream",
     "text": [
      "100\n",
      "Abigail\n"
     ]
    }
   ],
   "source": [
    "# How to instantiate instance variables\n",
    "\n",
    "class students():\n",
    "    def __init__(self, name, age, math_score):\n",
    "        self.name = name\n",
    "        self.age = age  # first age is instance variable, second age is value\n",
    "        self.math_score = math_score\n",
    "\n",
    "\n",
    "student1 = students('Jack', 20, 100)\n",
    "\n",
    "# __init__ runs automatically\n",
    "# __init__ (student1, 'Jack', 20, 100)\n",
    "# student1.name = 'Jack'\n",
    "# student1.age = 20\n",
    "# student1.math_score = 100\n",
    "# each instance variable has been assigned to Jack\n",
    "\n",
    "student2 = students('Abigail', 19, 80)\n",
    "\n",
    "print(student1.math_score)\n",
    "print(student2.name)"
   ]
  },
  {
   "cell_type": "code",
   "execution_count": 6,
   "metadata": {},
   "outputs": [
    {
     "name": "stdout",
     "output_type": "stream",
     "text": [
      "100\n",
      "80\n",
      "102.0\n",
      "81.6\n"
     ]
    }
   ],
   "source": [
    "# How to create and use  methods in classes\n",
    "# Example situation: curving scores for students\n",
    "\n",
    "class students():\n",
    "    def __init__(self, name, age, math_score):\n",
    "        self.name = name\n",
    "        self.age = age\n",
    "        self.math_score = math_score\n",
    "    \n",
    "    def calculate_with_curve(self):\n",
    "        self.math_score = self.math_score * 1.02\n",
    "\n",
    "student1 = students('Jack', 20, 100)\n",
    "student2 = students('Abigail', 19, 80)\n",
    "\n",
    "print(student1.math_score)\n",
    "print(student2.math_score)\n",
    "\n",
    "students.calculate_with_curve(student1) # student1.calculate_with_curve()\n",
    "students.calculate_with_curve(student2) # student2.calculate_with_curve()\n",
    "print(student1.math_score)\n",
    "print(student2.math_score)"
   ]
  },
  {
   "cell_type": "code",
   "execution_count": 11,
   "metadata": {},
   "outputs": [
    {
     "name": "stdout",
     "output_type": "stream",
     "text": [
      "eringruwell\n",
      "eringruwell\n",
      "eringruwell@gmail.com\n",
      "eringruwell@gmail.com\n",
      "vygotsky\n",
      "vygotsky\n",
      "vygotsky@gmail.com\n",
      "vygotsky@gmail.com\n"
     ]
    }
   ],
   "source": [
    "# How to use class variables in classes\n",
    "# Example situation: assigning a instructor to class\n",
    "\n",
    "class students():\n",
    "    instructor = \"eringruwell\"\n",
    "    curve = 1.02\n",
    "\n",
    "    def __init__(self, name, age, math_score):\n",
    "        self.name = name\n",
    "        self.age = age\n",
    "        self.math_score = math_score\n",
    "\n",
    "    def calculate_with_curve(self):\n",
    "        self.math_score = self.math_score * self.curve\n",
    "    \n",
    "    def email_of_instructor(self):\n",
    "        return self.instructor + '@gmail.com'\n",
    "\n",
    "\n",
    "student1 = students('Jack', 20, 100)\n",
    "student2 = students('Abigail', 19, 80)\n",
    "\n",
    "print(student1.instructor) # same across all instances\n",
    "print(student2.instructor)\n",
    "\n",
    "print(student1.email_of_instructor())\n",
    "print(student2.email_of_instructor())\n",
    "\n",
    "students.instructor = 'vygotsky'\n",
    "\n",
    "print(student1.instructor) # chagnes same across all instances\n",
    "print(student2.instructor)\n",
    "\n",
    "print(student1.email_of_instructor())\n",
    "print(student2.email_of_instructor())\n",
    "\n"
   ]
  },
  {
   "cell_type": "code",
   "execution_count": 13,
   "metadata": {},
   "outputs": [
    {
     "name": "stdout",
     "output_type": "stream",
     "text": [
      "100\n",
      "80\n",
      "102.0\n",
      "81.6\n",
      "104.0\n",
      "83.2\n"
     ]
    }
   ],
   "source": [
    "# How to use class variables in classes\n",
    "# Example situation: chagning the curve\n",
    "\n",
    "class students():\n",
    "    instructor = \"eringruwell\"\n",
    "    curve = 1.02\n",
    "\n",
    "    def __init__(self, name, age, math_score):\n",
    "        self.name = name\n",
    "        self.age = age\n",
    "        self.math_score = math_score\n",
    "\n",
    "    def calculate_with_curve(self):\n",
    "        return self.math_score * self.curve\n",
    "    \n",
    "    def email_of_instructor(self):\n",
    "        return self.instructor + '@gmail.com'\n",
    "\n",
    "student1 = students('Jack', 20, 100)\n",
    "student2 = students('Abigail', 19, 80)\n",
    "\n",
    "print(student1.math_score) # same across all instances\n",
    "print(student2.math_score)\n",
    "\n",
    "print(student1.calculate_with_curve())\n",
    "print(student2.calculate_with_curve())\n",
    "\n",
    "students.curve = 1.04\n",
    "\n",
    "print(student1.calculate_with_curve()) # calculates with updated curve\n",
    "print(student2.calculate_with_curve())\n"
   ]
  },
  {
   "cell_type": "code",
   "execution_count": null,
   "metadata": {},
   "outputs": [],
   "source": [
    "# Two ways of gettting class variables in methods\n",
    "# Method 1 is using class.class_variable.\n",
    "# Method 1 is used when no differences across each instance. For example, if the instructor and curve does not change across semester, then the code might be the following. \n",
    "\n",
    "class students():\n",
    "    instructor = \"eringruwell\"\n",
    "    curve = 1.02\n",
    "\n",
    "    def __init__(self, name, age, math_score):\n",
    "        self.name = name\n",
    "        self.age = age\n",
    "        self.math_score = math_score\n",
    "\n",
    "    def calculate_with_curve(self):\n",
    "        return self.math_score * students.curve\n",
    "    \n",
    "    def email_of_instructor(self):\n",
    "        return students.instructor + '@gmail.com'\n",
    "    \n",
    "student1 = students('Jack', 20, 100)\n",
    "student2 = students('Abigail', 19, 80)"
   ]
  },
  {
   "cell_type": "code",
   "execution_count": 16,
   "metadata": {},
   "outputs": [
    {
     "name": "stdout",
     "output_type": "stream",
     "text": [
      "104.0\n",
      "102.0\n",
      "102.0\n"
     ]
    }
   ],
   "source": [
    "# Method 2 using self.class_variable\n",
    "# self.class_variable 1) checks instance variables first. 2) If there is no class_variable among instance variable, it checks the class variables.\n",
    "# Method 2 is used when there might be differences across each instance. For example, it might be that the curve needs to be applied differently for some students.\n",
    "\n",
    "# Compare the following\n",
    "\n",
    "class students():\n",
    "\n",
    "    curve = 1.02\n",
    "\n",
    "    def __init__(self, name, age, math_score):\n",
    "        self.name = name\n",
    "        self.age = age\n",
    "        self.math_score = math_score\n",
    "\n",
    "    def calculate_with_curve(self):\n",
    "        return self.math_score * self.curve\n",
    "    \n",
    "student1 = students('Jack', 20, 100)\n",
    "student2 = students('Abigail', 19, 100)\n",
    "student3 = students('Eli', 23, 100)\n",
    "\n",
    "# student 1's curve is updated to 1.04 as a instance variable. On the other hand, student 2 and 3's curve are still 1.02 as a class variable. Now, the method calculate_with_curve uses self.curve to get 1.04 from student 1.\n",
    "student1.curve = 1.04 \n",
    "\n",
    "print(student1.calculate_with_curve()) # curve is 1.04\n",
    "print(student2.calculate_with_curve()) # curve is 1.02\n",
    "print(student3.calculate_with_curve()) # curve is 1.02"
   ]
  },
  {
   "cell_type": "code",
   "execution_count": 17,
   "metadata": {},
   "outputs": [
    {
     "name": "stdout",
     "output_type": "stream",
     "text": [
      "102.0\n",
      "102.0\n",
      "102.0\n"
     ]
    }
   ],
   "source": [
    "\n",
    "class students():\n",
    "\n",
    "    curve = 1.02\n",
    "\n",
    "    def __init__(self, name, age, math_score):\n",
    "        self.name = name\n",
    "        self.age = age\n",
    "        self.math_score = math_score\n",
    "\n",
    "    def calculate_with_curve(self):\n",
    "        return self.math_score * students.curve\n",
    "    \n",
    "student1 = students('Jack', 20, 100)\n",
    "student2 = students('Abigail', 19, 100)\n",
    "student3 = students('Eli', 23, 100)\n",
    "\n",
    "# student 1's curve is updated to 1.04 as a instance variable. On the other hand, student 2 and 3's curve are still 1.02 as a class variable. Yet because the method calculate_with_curve uses students.curve, student 1's curve is still calculated as 1.02.\n",
    "\n",
    "student1.curve = 1.04 \n",
    "\n",
    "print(student1.calculate_with_curve()) # curve is 1.02\n",
    "print(student2.calculate_with_curve()) # curve is 1.02\n",
    "print(student3.calculate_with_curve()) # curve is 1.02"
   ]
  }
 ],
 "metadata": {
  "kernelspec": {
   "display_name": "Python 3",
   "language": "python",
   "name": "python3"
  },
  "language_info": {
   "codemirror_mode": {
    "name": "ipython",
    "version": 3
   },
   "file_extension": ".py",
   "mimetype": "text/x-python",
   "name": "python",
   "nbconvert_exporter": "python",
   "pygments_lexer": "ipython3",
   "version": "3.11.1"
  },
  "orig_nbformat": 4
 },
 "nbformat": 4,
 "nbformat_minor": 2
}
