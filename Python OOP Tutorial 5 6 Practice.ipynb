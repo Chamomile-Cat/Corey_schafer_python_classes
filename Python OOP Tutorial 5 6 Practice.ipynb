{
 "cells": [
  {
   "cell_type": "code",
   "execution_count": 7,
   "metadata": {},
   "outputs": [],
   "source": [
    "import math"
   ]
  },
  {
   "cell_type": "code",
   "execution_count": 11,
   "metadata": {},
   "outputs": [
    {
     "name": "stdout",
     "output_type": "stream",
     "text": [
      "Vector(1, 3)\n",
      "Vector(2, 3)\n",
      "Vector(4, 1)\n",
      "The first dimension is 1 and the second dimension is 3\n",
      "The first dimension is 2 and the second dimension is 3\n",
      "The first dimension is 4 and the second dimension is 1\n",
      "[3, 6]\n",
      "[6, 4]\n",
      "[5, 4]\n",
      "[-1, 0]\n",
      "[-2, 2]\n",
      "[3, -2]\n",
      "3.1622776601683795\n",
      "3.605551275463989\n",
      "4.123105625617661\n"
     ]
    }
   ],
   "source": [
    "class Vector():\n",
    "    def __init__(self, dimension1, dimension2):\n",
    "        self.dimension1 =  dimension1\n",
    "        self.dimension2 = dimension2\n",
    "\n",
    "    def __repr__(self):\n",
    "        return \"Vector({}, {})\".format(self.dimension1, self.dimension2) # same format to initialization using class\n",
    "\n",
    "    def __str__(self):\n",
    "        return \"The first dimension is {} and the second dimension is {}\".format(self.dimension1, self.dimension2)\n",
    "    \n",
    "    def __add__(self, other):\n",
    "        return \"[{}, {}]\".format(self.dimension1+other.dimension1, self.dimension2+other.dimension2)\n",
    "\n",
    "    def __sub__(self, other):\n",
    "        return \"[{}, {}]\".format(self.dimension1-other.dimension1, self.dimension2-other.dimension2)\n",
    "    \n",
    "    def __len__(self):\n",
    "        return math.sqrt(self.dimension1**2 + self.dimension2**2)\n",
    "\n",
    "vector1 = Vector(1, 3)\n",
    "vector2 = Vector(2, 3)\n",
    "vector3 = Vector(4, 1)\n",
    "\n",
    "print(repr(vector1))\n",
    "print(repr(vector2))\n",
    "print(vector3.__repr__())\n",
    "\n",
    "print(str(vector1))\n",
    "print(str(vector2))\n",
    "print(vector3.__str__())\n",
    "\n",
    "print(vector1 + vector2)\n",
    "print(vector2 + vector3)\n",
    "print(vector1 + vector3)\n",
    "\n",
    "print(vector1 - vector2)\n",
    "print(vector2 - vector3)\n",
    "print(vector3 - vector1)\n",
    "\n",
    "print(vector1.__len__()) # len(vector1) throws out an error\n",
    "print(vector2.__len__())\n",
    "print(vector3.__len__())"
   ]
  },
  {
   "cell_type": "code",
   "execution_count": 17,
   "metadata": {},
   "outputs": [
    {
     "name": "stdout",
     "output_type": "stream",
     "text": [
      "0.1\n",
      "-3\n",
      "-5\n",
      "Radius is a positive number. Changes not applied.\n",
      "Setting new radius to 6\n",
      "Setting new radius to 8\n",
      "0.1\n",
      "6\n",
      "8\n",
      "Deleted radius.\n",
      "Deleted radius.\n",
      "Deleted radius.\n",
      "None\n",
      "None\n",
      "None\n"
     ]
    }
   ],
   "source": [
    "class Circle():\n",
    "    def __init__(self, private_radius):\n",
    "        self. private_radius =  private_radius\n",
    "        \n",
    "    @property\n",
    "    def getter(self):\n",
    "        return self.private_radius\n",
    "    \n",
    "    @getter.setter\n",
    "    def getter(self, new_radius):\n",
    "        if self.private_radius <= 0 and new_radius >=0 :\n",
    "            self.private_radius = new_radius\n",
    "            print(\"Setting new radius to {}\".format(new_radius))\n",
    "        else:\n",
    "            print(\"Radius is a positive number. Changes not applied.\")\n",
    "\n",
    "    @getter.deleter\n",
    "    def getter(self):\n",
    "        self.private_radius = None\n",
    "        print(\"Deleted radius.\")\n",
    "\n",
    "circle1 = circle(0.1)\n",
    "circle2 = circle(-3)\n",
    "circle3 = circle(-5)\n",
    "\n",
    "print(circle1.private_radius)\n",
    "print(circle2.private_radius)\n",
    "print(circle3.private_radius)\n",
    "\n",
    "circle1.getter = 4\n",
    "circle2.getter = 6\n",
    "circle3.getter = 8\n",
    "\n",
    "print(circle1.private_radius)\n",
    "print(circle2.private_radius)\n",
    "print(circle3.private_radius)\n",
    "\n",
    "del circle1.getter\n",
    "del circle2.getter\n",
    "del circle3.getter\n",
    "\n",
    "print(circle1.private_radius)\n",
    "print(circle2.private_radius)\n",
    "print(circle3.private_radius)\n"
   ]
  },
  {
   "cell_type": "code",
   "execution_count": 25,
   "metadata": {},
   "outputs": [
    {
     "ename": "SyntaxError",
     "evalue": "invalid syntax. Perhaps you forgot a comma? (2398045916.py, line 7)",
     "output_type": "error",
     "traceback": [
      "\u001b[1;36m  Cell \u001b[1;32mIn[25], line 7\u001b[1;36m\u001b[0m\n\u001b[1;33m    return Rectangle(self.width + other.width, self.height  other.height)*2\u001b[0m\n\u001b[1;37m                                               ^\u001b[0m\n\u001b[1;31mSyntaxError\u001b[0m\u001b[1;31m:\u001b[0m invalid syntax. Perhaps you forgot a comma?\n"
     ]
    }
   ],
   "source": [
    "class Rectangle():\n",
    "    def __init__(self, width, height):\n",
    "        self.width = width\n",
    "        self.height = height\n",
    "    \n",
    "    def __add__(self, other):\n",
    "        return Rectangle(self.width + other.width, self.height + other.height)*2\n",
    "\n",
    "rectangle1 = Rectangle(2,3)\n",
    "rectangle2 = Rectangle(4,5)\n",
    "\n",
    "print(rectangle1 + rectangle2)"
   ]
  },
  {
   "cell_type": "code",
   "execution_count": 26,
   "metadata": {},
   "outputs": [
    {
     "name": "stdout",
     "output_type": "stream",
     "text": [
      "9\n",
      "1\n",
      "6.928203230275509\n",
      "1.7320508075688772\n",
      "10\n",
      "8.660254037844386\n"
     ]
    }
   ],
   "source": [
    "class Square():\n",
    "    def __init__(self, side_length):\n",
    "        self.side_legnth = side_length\n",
    "    \n",
    "    def calculate_area(self):\n",
    "        area = self.side_legnth ** 2\n",
    "        self.area = area\n",
    "        return area\n",
    "\n",
    "    def __add__(self, other): # adds area\n",
    "        return self.area + other.area\n",
    "\n",
    "\n",
    "class Triangle():\n",
    "    def __init__(self, side_length):\n",
    "        self.side_length = side_length\n",
    "\n",
    "    def calculate_area(self):\n",
    "        area = math.sqrt(3) / 4 * (self.side_length ** 2)\n",
    "        self.area = area\n",
    "        return area\n",
    "\n",
    "    def __add__(self, other): # calculates and adds area\n",
    "        if isinstance(other, Triangle):\n",
    "            return self.area + other.area\n",
    "        elif isinstance(other, Square):\n",
    "            return self.area + other.calculate_area()\n",
    "        else:\n",
    "            return NotImplemented\n",
    "\n",
    "    \n",
    "square1 = Square(3)\n",
    "square2 = Square(1)\n",
    "triangle1 = Triangle(4)\n",
    "triangle2 = Triangle(2)\n",
    "\n",
    "print(square1.calculate_area())\n",
    "print(square2.calculate_area())\n",
    "print(triangle1.calculate_area())\n",
    "print(triangle2.calculate_area())\n",
    "\n",
    "print(square1 + square2)\n",
    "print(triangle1 + triangle2)"
   ]
  }
 ],
 "metadata": {
  "kernelspec": {
   "display_name": "Python 3",
   "language": "python",
   "name": "python3"
  },
  "language_info": {
   "codemirror_mode": {
    "name": "ipython",
    "version": 3
   },
   "file_extension": ".py",
   "mimetype": "text/x-python",
   "name": "python",
   "nbconvert_exporter": "python",
   "pygments_lexer": "ipython3",
   "version": "3.11.1"
  },
  "orig_nbformat": 4
 },
 "nbformat": 4,
 "nbformat_minor": 2
}
