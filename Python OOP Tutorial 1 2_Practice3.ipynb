{
 "cells": [
  {
   "cell_type": "code",
   "execution_count": 2,
   "metadata": {},
   "outputs": [],
   "source": [
    "# Using classes are useful\n",
    "\n",
    "student1 = {\n",
    "    'age' : 20,\n",
    "    'name' : 'James',\n",
    "\n",
    "}\n",
    "\n",
    "\n",
    "student2 = {\n",
    "    'age' : 30,\n",
    "    'name' : 'Maria',\n",
    "\n",
    "}\n",
    "\n",
    "\n",
    "student3 = {\n",
    "    'age' : 23,\n",
    "    'name' : 'James',\n",
    "\n",
    "}\n",
    "\n",
    "# Redundant code can be reduced through classes\n"
   ]
  },
  {
   "cell_type": "code",
   "execution_count": 3,
   "metadata": {},
   "outputs": [],
   "source": [
    "# Skip creating classes\n",
    "\n",
    "class vocabulary():\n",
    "    pass\n"
   ]
  },
  {
   "cell_type": "code",
   "execution_count": 21,
   "metadata": {},
   "outputs": [
    {
     "name": "stdout",
     "output_type": "stream",
     "text": [
      "{'language': 'english', 'words': ['hi', 'cat']}\n",
      "{'language': 'english', 'words': ['dog', 'cute']}\n",
      "{'language': 'english', 'words': ['hi', 'cat', 'fish', 'cow', 'pig', 'chicken', 'coffee']}\n",
      "{'language': 'english', 'words': ['dog', 'cute', 'mop', 'pencil', 'cocktail', 'hornet', 'clock']}\n",
      "10\n"
     ]
    }
   ],
   "source": [
    "# Creating classes\n",
    "\n",
    "class vocabulary():\n",
    "\n",
    "    total_words_added = 0    # 가독성 위해 class variable 사용X기도\n",
    "    \n",
    "    def __init__(self, language, words):\n",
    "        self.language = language\n",
    "        self.words = words\n",
    "    \n",
    "    def add_word(self, word):\n",
    "        self.words.extend(word)    # extend, append returns none\n",
    "        vocabulary.total_words_added += len(word)\n",
    "\n",
    "\n",
    "word_list_1 = vocabulary('english', ['hi', 'cat'])\n",
    "word_list_2 = vocabulary('english', ['dog', 'cute'])\n",
    "\n",
    "print(word_list_1.__dict__)\n",
    "print(word_list_2.__dict__)\n",
    "\n",
    "vocabulary.add_word(word_list_1, ['fish', 'cow', 'pig', 'chicken', 'coffee'])\n",
    "word_list_2.add_word(['mop', 'pencil', 'cocktail', 'hornet', 'clock'])\n",
    "\n",
    "print(word_list_1.__dict__)\n",
    "print(word_list_2.__dict__)\n",
    "\n",
    "print(vocabulary.total_words_added)"
   ]
  },
  {
   "cell_type": "code",
   "execution_count": 19,
   "metadata": {},
   "outputs": [
    {
     "name": "stdout",
     "output_type": "stream",
     "text": [
      "Word is cat and frequency is 3\n",
      "Word is dog and frequency is 4\n"
     ]
    }
   ],
   "source": [
    "class WordFrequency ():\n",
    "\n",
    "    def __init__(self, word, frequency):\n",
    "        self.word = word\n",
    "        self.frequency = frequency\n",
    "    \n",
    "    def increase_frequency(self):\n",
    "        self.frequency += 1\n",
    "\n",
    "    def __str__(self):\n",
    "        return 'Word is {} and frequency is {}'.format(self.word, self.frequency)\n",
    "\n",
    "frequency1 = WordFrequency('cat', 2)\n",
    "frequency2 = WordFrequency('dog', 3)\n",
    "\n",
    "WordFrequency.increase_frequency(frequency1)\n",
    "frequency2.increase_frequency()\n",
    "\n",
    "print(frequency1)\n",
    "print(frequency2)"
   ]
  },
  {
   "cell_type": "code",
   "execution_count": null,
   "metadata": {},
   "outputs": [],
   "source": [
    "class Sentence():\n",
    "    def __init__(self, langauge, content):\n",
    "        self.language = langauge\n",
    "        self.content = content\n",
    "    \n",
    "    def translate(self, translated_language):\n",
    "        print(\"The setnecne is transalted to {}\".format(translated_language))"
   ]
  }
 ],
 "metadata": {
  "kernelspec": {
   "display_name": "Python 3",
   "language": "python",
   "name": "python3"
  },
  "language_info": {
   "codemirror_mode": {
    "name": "ipython",
    "version": 3
   },
   "file_extension": ".py",
   "mimetype": "text/x-python",
   "name": "python",
   "nbconvert_exporter": "python",
   "pygments_lexer": "ipython3",
   "version": "3.11.1"
  },
  "orig_nbformat": 4
 },
 "nbformat": 4,
 "nbformat_minor": 2
}
