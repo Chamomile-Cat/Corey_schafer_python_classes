{
 "cells": [
  {
   "cell_type": "code",
   "execution_count": 26,
   "metadata": {},
   "outputs": [],
   "source": [
    "class LanguageLearner():\n",
    "    total_learners = 0\n",
    "    levels = ['Beginner', 'Intermediate', 'Advanced']\n",
    "\n",
    "    def __init__(self, name, native_language, target_language, fluency_level):\n",
    "        self.name = name\n",
    "        self.native_language = native_language\n",
    "        self.target_language = target_language\n",
    "        self.fluency_level = fluency_level\n",
    "\n",
    "        LanguageLearner.total_learners += 1\n",
    "\n",
    "    def introduce_yourself(self):\n",
    "        print(\"\"\"\n",
    "              Hello! My name is {name}. I speak {native_language} and I am learning {target_language}. I am currently at the {fluency_level} level.\"\"\".format(name = self.name, native_language = self.native_language, target_language = self.target_language, fluency_level = self.fluency_level))\n",
    "    \n",
    "    def get_total_learners(self):\n",
    "        return LanguageLearner.total_learners\n",
    "    \n",
    "    def advance_level(self):\n",
    "        current_index = LanguageLearner.levels.index(self.fluency_level)\n",
    "        if current_index == 2:\n",
    "            current_index = 2\n",
    "        else:\n",
    "            current_index += 1\n",
    "        self.fluency_level = LanguageLearner.levels[current_index]\n"
   ]
  },
  {
   "cell_type": "code",
   "execution_count": 27,
   "metadata": {},
   "outputs": [
    {
     "name": "stdout",
     "output_type": "stream",
     "text": [
      "\n",
      "              Hello! My name is Mary. I speak Korean and I am learning English. I am currently at the Beginner level.\n",
      "\n",
      "              Hello! My name is Ross. I speak Russian and I am learning Spanish. I am currently at the Intermediate level.\n",
      "\n",
      "              Hello! My name is Eli. I speak French and I am learning Dutch. I am currently at the Advanced level.\n",
      "3\n",
      "3\n",
      "Intermediate\n",
      "Advanced\n",
      "Advanced\n"
     ]
    }
   ],
   "source": [
    "student1 = LanguageLearner('Mary', 'Korean', 'English', 'Beginner')\n",
    "student2 = LanguageLearner('Ross', 'Russian', 'Spanish', 'Intermediate')\n",
    "student3 = LanguageLearner('Eli', 'French', 'Dutch', 'Advanced')\n",
    "\n",
    "student1.introduce_yourself()\n",
    "student2.introduce_yourself()\n",
    "student3.introduce_yourself()\n",
    "\n",
    "print(LanguageLearner.get_total_learners(student1)) \n",
    "print(LanguageLearner.total_learners) # Better to access class variable directly then use method\n",
    "\n",
    "LanguageLearner.advance_level(student1)\n",
    "\n",
    "student2.advance_level() # student2 gets passed into method advance_level as self\n",
    "LanguageLearner.advance_level(student2)\n",
    "\n",
    "student3.advance_level() # student3 gets passed into method advance_level as self\n",
    "LanguageLearner.advance_level(student3)\n",
    "\n",
    "print(student1.fluency_level)\n",
    "print(student2.fluency_level)\n",
    "print(student3.fluency_level)"
   ]
  }
 ],
 "metadata": {
  "kernelspec": {
   "display_name": "Python 3",
   "language": "python",
   "name": "python3"
  },
  "language_info": {
   "codemirror_mode": {
    "name": "ipython",
    "version": 3
   },
   "file_extension": ".py",
   "mimetype": "text/x-python",
   "name": "python",
   "nbconvert_exporter": "python",
   "pygments_lexer": "ipython3",
   "version": "3.11.1"
  },
  "orig_nbformat": 4
 },
 "nbformat": 4,
 "nbformat_minor": 2
}
