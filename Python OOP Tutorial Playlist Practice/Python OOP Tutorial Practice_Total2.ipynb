{
 "cells": [
  {
   "cell_type": "code",
   "execution_count": 9,
   "metadata": {},
   "outputs": [
    {
     "name": "stdout",
     "output_type": "stream",
     "text": [
      "Help on class Student in module __main__:\n",
      "\n",
      "class Student(Person)\n",
      " |  Student(name, age, student_id)\n",
      " |  \n",
      " |  Method resolution order:\n",
      " |      Student\n",
      " |      Person\n",
      " |      builtins.object\n",
      " |  \n",
      " |  Methods defined here:\n",
      " |  \n",
      " |  __init__(self, name, age, student_id)\n",
      " |      Initialize self.  See help(type(self)) for accurate signature.\n",
      " |  \n",
      " |  __repr__(self)\n",
      " |      Return repr(self).\n",
      " |  \n",
      " |  __str__(self)\n",
      " |      Return str(self).\n",
      " |  \n",
      " |  ----------------------------------------------------------------------\n",
      " |  Data descriptors inherited from Person:\n",
      " |  \n",
      " |  __dict__\n",
      " |      dictionary for instance variables (if defined)\n",
      " |  \n",
      " |  __weakref__\n",
      " |      list of weak references to the object (if defined)\n",
      "\n"
     ]
    }
   ],
   "source": [
    "class Person():\n",
    "    \n",
    "    def __init__(self, name, age):\n",
    "        self._name = name\n",
    "        self._age = age\n",
    "    \n",
    "    def __repr__(self):\n",
    "        return 'Person({0}, {1})'.format(self._name, self._age) # call attribute\n",
    "\n",
    "    def __str__(self):\n",
    "        return '''Data for this person:\n",
    "        Name: {0}\n",
    "        Age: {1}'''.format(self._name, self._age)\n",
    "\n",
    "\n",
    "\n",
    "class Student(Person):\n",
    "\n",
    "    def __init__(self, name, age, student_id):\n",
    "        Person.__init__(self, name, age)\n",
    "        self._student_id = student_id\n",
    "\n",
    "    def __repr__(self):\n",
    "        return 'Student({0}, {1}, {2})'.format(self._name, self._age, self._student_id)\n",
    "\n",
    "    def __str__(self):\n",
    "        return '''Data for this person:\n",
    "        Name: {0}\n",
    "        Age: {1}\n",
    "        Student ID: {2}'''.format(self._name, self._age, self._student_id)\n",
    "\n",
    "person1 = Person('Jake', 20)\n",
    "student1 = Student('Matt', 23, 333394939)\n",
    "\n",
    "person1.__repr__() # calling a method requires parentheses\n",
    "person1.__str__()\n",
    "student1.__repr__()\n",
    "student1.__str__()\n",
    "\n",
    "help(Student)"
   ]
  },
  {
   "cell_type": "code",
   "execution_count": 8,
   "metadata": {},
   "outputs": [
    {
     "name": "stdout",
     "output_type": "stream",
     "text": [
      "3\n",
      "3.0\n",
      "New circumference must be equal or larger than 0\n",
      "2.0\n",
      "3.0\n",
      "Radius is positive.\n",
      "Radius should be equal or larger than 0\n"
     ]
    }
   ],
   "source": [
    "class Circle():\n",
    "\n",
    "    pi = 3.14159\n",
    "\n",
    "    def __init__(self, radius):\n",
    "        self._radius = radius\n",
    "    \n",
    "    @classmethod\n",
    "    def Dia_Circle(cls, diameter): # create instance from diameter\n",
    "        return Circle(diameter/2) # alternative constructor\n",
    "    \n",
    "    @property\n",
    "    def Circle(self):\n",
    "        return self._radius\n",
    "    \n",
    "    @Circle.setter\n",
    "    def Circle(self, circumference):\n",
    "        if circumference >= 0:\n",
    "            self._radius = circumference / (2 * Circle.pi)\n",
    "        else:\n",
    "            print('New circumference must be equal or larger than 0')\n",
    "    \n",
    "    @staticmethod\n",
    "    def check_radius(radius):\n",
    "        if radius >=0:\n",
    "            print('Radius is positive.')\n",
    "        else:\n",
    "            print('Radius should be equal or larger than 0')\n",
    "\n",
    "\n",
    "circle1 = Circle(3)\n",
    "circle2 = Circle.Dia_Circle(6)\n",
    "print(circle1.Circle)\n",
    "print(circle2.Circle)\n",
    "\n",
    "circle1.Circle = 4*Circle.pi\n",
    "circle2.Circle = (-1)*Circle.pi\n",
    "print(circle1.Circle)\n",
    "print(circle2.Circle)\n",
    "\n",
    "\n",
    "Circle.check_radius(4)\n",
    "Circle.check_radius(-1)"
   ]
  },
  {
   "cell_type": "code",
   "execution_count": 14,
   "metadata": {},
   "outputs": [
    {
     "data": {
      "text/plain": [
       "5"
      ]
     },
     "execution_count": 14,
     "metadata": {},
     "output_type": "execute_result"
    }
   ],
   "source": [
    "class Vector():\n",
    "     def __init__(self, x, y):\n",
    "         self._x = x\n",
    "         self._y = y\n",
    "\n",
    "     def __repr__(self):\n",
    "         return 'Vector({0}, {1})'.format(self._x, self._y)\n",
    "\n",
    "     def __str__(self):\n",
    "        return '''Coordinates:\n",
    "        x: {0}\n",
    "        y: {1}\n",
    "        '''.format(self._x, self._y)\n",
    "    \n",
    "     def __add__(self, other):\n",
    "         return Vector(self._x + other._x, self._y + other._y) # return new vector object\n",
    "     \n",
    "     def __len__(self): # euclidiean distance\n",
    "         return abs(self._x) + abs(self._y)\n",
    "     \n",
    "\n",
    "vector1 = Vector(1,2)\n",
    "vector2 = Vector(2,3)\n",
    "\n",
    "vector1.__repr__()\n",
    "vector2.__str__()\n",
    "\n",
    "vector1 + vector2\n",
    "len(vector2)"
   ]
  }
 ],
 "metadata": {
  "kernelspec": {
   "display_name": "Python 3",
   "language": "python",
   "name": "python3"
  },
  "language_info": {
   "codemirror_mode": {
    "name": "ipython",
    "version": 3
   },
   "file_extension": ".py",
   "mimetype": "text/x-python",
   "name": "python",
   "nbconvert_exporter": "python",
   "pygments_lexer": "ipython3",
   "version": "3.11.1"
  }
 },
 "nbformat": 4,
 "nbformat_minor": 2
}
