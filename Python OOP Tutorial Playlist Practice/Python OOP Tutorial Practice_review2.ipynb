{
 "cells": [
  {
   "cell_type": "markdown",
   "metadata": {},
   "source": [
    "### Add new variables to a subclass"
   ]
  },
  {
   "cell_type": "code",
   "execution_count": 4,
   "metadata": {},
   "outputs": [
    {
     "name": "stdout",
     "output_type": "stream",
     "text": [
      "{'_name': 'Mary', '_age': 20}\n",
      "{'_name': 'Jack', '_age': 23, '_student_id': 2019223499}\n"
     ]
    }
   ],
   "source": [
    "class Person():\n",
    "\n",
    "    def __init__ (self, name, age):\n",
    "        self._name = name\n",
    "        self._age = age\n",
    "    \n",
    "    def print_attribute(self):\n",
    "        print(vars(self))\n",
    "\n",
    "\n",
    "\n",
    "class Student(Person):\n",
    "    \n",
    "    def __init__ (self, name, age, student_id):\n",
    "        Person.__init__(self, name, age)\n",
    "        self._student_id = student_id\n",
    "    \n",
    "    def print_attributes(self):\n",
    "        print(vars(self))\n",
    "    \n",
    "\n",
    "\n",
    "person1 = Person('Mary', 20)\n",
    "person2 = Student('Jack', 23, 2019223499)\n",
    "\n",
    "print(vars(person1))\n",
    "print(vars(person2))"
   ]
  },
  {
   "cell_type": "code",
   "execution_count": 6,
   "metadata": {},
   "outputs": [
    {
     "name": "stdout",
     "output_type": "stream",
     "text": [
      "{'_name': 'Mars', '_age': 29, '_employee_id': 922934, '_position': 'Manager'}\n"
     ]
    }
   ],
   "source": [
    "class Employee(Person):\n",
    "\n",
    "    def __init__(self, name, age, employee_id, position):\n",
    "        Person.__init__(self, name, age)\n",
    "        self._employee_id = employee_id\n",
    "        self._position = position\n",
    "    \n",
    "    def print_data(self):\n",
    "        print(vars(self))\n",
    "\n",
    "\n",
    "\n",
    "employee1 = Employee('Mars', 29, 922934, 'Manager')\n",
    "employee1.print_data()"
   ]
  },
  {
   "cell_type": "markdown",
   "metadata": {},
   "source": [
    "### Getters, Setters, and Deleters in class"
   ]
  },
  {
   "cell_type": "code",
   "execution_count": 10,
   "metadata": {},
   "outputs": [
    {
     "name": "stdout",
     "output_type": "stream",
     "text": [
      "20\n"
     ]
    },
    {
     "ename": "ValueError",
     "evalue": "",
     "output_type": "error",
     "traceback": [
      "\u001b[1;31m---------------------------------------------------------------------------\u001b[0m",
      "\u001b[1;31mValueError\u001b[0m                                Traceback (most recent call last)",
      "\u001b[1;32mh:\\내 드라이브\\연세대학교\\4학년 2학기\\Corey_schafer_python_classes\\Python OOP Tutorial Practice_review2.ipynb Cell 5\u001b[0m line \u001b[0;36m2\n\u001b[0;32m     <a href='vscode-notebook-cell:/h%3A/%EB%82%B4%20%EB%93%9C%EB%9D%BC%EC%9D%B4%EB%B8%8C/%EC%97%B0%EC%84%B8%EB%8C%80%ED%95%99%EA%B5%90/4%ED%95%99%EB%85%84%202%ED%95%99%EA%B8%B0/Corey_schafer_python_classes/Python%20OOP%20Tutorial%20Practice_review2.ipynb#W6sZmlsZQ%3D%3D?line=20'>21</a>\u001b[0m circle1\u001b[39m.\u001b[39mradius \u001b[39m=\u001b[39m \u001b[39m10\u001b[39m\n\u001b[0;32m     <a href='vscode-notebook-cell:/h%3A/%EB%82%B4%20%EB%93%9C%EB%9D%BC%EC%9D%B4%EB%B8%8C/%EC%97%B0%EC%84%B8%EB%8C%80%ED%95%99%EA%B5%90/4%ED%95%99%EB%85%84%202%ED%95%99%EA%B8%B0/Corey_schafer_python_classes/Python%20OOP%20Tutorial%20Practice_review2.ipynb#W6sZmlsZQ%3D%3D?line=21'>22</a>\u001b[0m \u001b[39mprint\u001b[39m(circle1\u001b[39m.\u001b[39mradius)\n\u001b[1;32m---> <a href='vscode-notebook-cell:/h%3A/%EB%82%B4%20%EB%93%9C%EB%9D%BC%EC%9D%B4%EB%B8%8C/%EC%97%B0%EC%84%B8%EB%8C%80%ED%95%99%EA%B5%90/4%ED%95%99%EB%85%84%202%ED%95%99%EA%B8%B0/Corey_schafer_python_classes/Python%20OOP%20Tutorial%20Practice_review2.ipynb#W6sZmlsZQ%3D%3D?line=23'>24</a>\u001b[0m circle1\u001b[39m.\u001b[39;49mradius \u001b[39m=\u001b[39m \u001b[39m-\u001b[39m\u001b[39m1\u001b[39m\n",
      "\u001b[1;32mh:\\내 드라이브\\연세대학교\\4학년 2학기\\Corey_schafer_python_classes\\Python OOP Tutorial Practice_review2.ipynb Cell 5\u001b[0m line \u001b[0;36m1\n\u001b[0;32m     <a href='vscode-notebook-cell:/h%3A/%EB%82%B4%20%EB%93%9C%EB%9D%BC%EC%9D%B4%EB%B8%8C/%EC%97%B0%EC%84%B8%EB%8C%80%ED%95%99%EA%B5%90/4%ED%95%99%EB%85%84%202%ED%95%99%EA%B8%B0/Corey_schafer_python_classes/Python%20OOP%20Tutorial%20Practice_review2.ipynb#W6sZmlsZQ%3D%3D?line=12'>13</a>\u001b[0m     \u001b[39mself\u001b[39m\u001b[39m.\u001b[39m_raidus \u001b[39m=\u001b[39m new_radius \u001b[39m# if self.radius raises recursion error\u001b[39;00m\n\u001b[0;32m     <a href='vscode-notebook-cell:/h%3A/%EB%82%B4%20%EB%93%9C%EB%9D%BC%EC%9D%B4%EB%B8%8C/%EC%97%B0%EC%84%B8%EB%8C%80%ED%95%99%EA%B5%90/4%ED%95%99%EB%85%84%202%ED%95%99%EA%B8%B0/Corey_schafer_python_classes/Python%20OOP%20Tutorial%20Practice_review2.ipynb#W6sZmlsZQ%3D%3D?line=13'>14</a>\u001b[0m \u001b[39melse\u001b[39;00m:\n\u001b[1;32m---> <a href='vscode-notebook-cell:/h%3A/%EB%82%B4%20%EB%93%9C%EB%9D%BC%EC%9D%B4%EB%B8%8C/%EC%97%B0%EC%84%B8%EB%8C%80%ED%95%99%EA%B5%90/4%ED%95%99%EB%85%84%202%ED%95%99%EA%B8%B0/Corey_schafer_python_classes/Python%20OOP%20Tutorial%20Practice_review2.ipynb#W6sZmlsZQ%3D%3D?line=14'>15</a>\u001b[0m     \u001b[39mraise\u001b[39;00m \u001b[39mValueError\u001b[39;00m\n",
      "\u001b[1;31mValueError\u001b[0m: "
     ]
    }
   ],
   "source": [
    "class Circle():\n",
    "    \n",
    "    def __init__(self, radius):\n",
    "        self._radius = radius\n",
    "\n",
    "    @property\n",
    "    def radius(self): # radius not radius in __init__, for use/readability\n",
    "        return self._radius # return attribute\n",
    "    \n",
    "    @radius.setter\n",
    "    def radius(self, new_radius):\n",
    "        if new_radius > 0:\n",
    "            self._raidus = new_radius # if self.radius raises recursion error\n",
    "        else:\n",
    "            raise ValueError\n",
    "\n",
    "\n",
    "\n",
    "circle1 = Circle(20)\n",
    "\n",
    "circle1.radius = 10\n",
    "print(circle1.radius)\n",
    "\n",
    "circle1.radius = -1"
   ]
  },
  {
   "cell_type": "code",
   "execution_count": 12,
   "metadata": {},
   "outputs": [
    {
     "name": "stdout",
     "output_type": "stream",
     "text": [
      "20\n",
      "40\n",
      "Abby\n",
      "Marcus\n",
      "Balance must be a positive integer\n",
      "30\n",
      "Mary\n",
      "Deleting Balance\n",
      "0\n"
     ]
    }
   ],
   "source": [
    "class Account():\n",
    "    \n",
    "    def __init__(self, balance, owner):\n",
    "        self._balance = balance\n",
    "        self._owner = owner\n",
    "    \n",
    "    @property\n",
    "    def balance(self): # not balance in __init__\n",
    "        return self._balance # access to attribute\n",
    "\n",
    "    @property\n",
    "    def owner(self):\n",
    "        return self._owner\n",
    "    \n",
    "    @balance.setter\n",
    "    def balance(self, new_balance):\n",
    "        if new_balance > 0:\n",
    "            self._balance = new_balance # using self.balance raises error\n",
    "        else:\n",
    "            print('Balance must be a positive integer')\n",
    "\n",
    "    @owner.setter\n",
    "    def owner(self, new_owner):\n",
    "        self._owner = new_owner\n",
    "\n",
    "    @balance.deleter\n",
    "    def balance(self):\n",
    "        print('Deleting Balance')\n",
    "        self._balance = 0\n",
    "\n",
    "account1 = Account(20, 'Abby')\n",
    "account2 = Account(40, 'Marcus')\n",
    "\n",
    "print(account1.balance)\n",
    "print(account2.balance)\n",
    "print(account1.owner)\n",
    "print(account2.owner)\n",
    "\n",
    "account1.balance = 30\n",
    "account1.balance = -40\n",
    "print(account1.balance)\n",
    "\n",
    "account2.owner = 'Mary'\n",
    "print(account2.owner)\n",
    "\n",
    "del account1.balance\n",
    "print(account1.balance)"
   ]
  },
  {
   "cell_type": "code",
   "execution_count": 13,
   "metadata": {},
   "outputs": [
    {
     "name": "stdout",
     "output_type": "stream",
     "text": [
      "Width must be positive number.\n",
      "Height must be positive number.\n",
      "5\n",
      "3\n",
      "2\n",
      "6\n",
      "90\n",
      "3\n"
     ]
    },
    {
     "data": {
      "text/plain": [
       "6"
      ]
     },
     "execution_count": 13,
     "metadata": {},
     "output_type": "execute_result"
    }
   ],
   "source": [
    "class Rectangle():\n",
    "\n",
    "    def __init__(self, width, height):\n",
    "        self._width = width\n",
    "        self._height = height\n",
    "\n",
    "    @property # creates new object 'weight' diff from 'weight' in __init__\n",
    "    def width(self):\n",
    "        return self._width # return attribute\n",
    "    \n",
    "    @property\n",
    "    def height(self):\n",
    "        return self._height\n",
    "    \n",
    "    @width.setter\n",
    "    def width(self, new_width):\n",
    "        if new_width > 0:\n",
    "            self._width = new_width # self.width creates recursion error\n",
    "        else:\n",
    "            print('Width must be positive number.')\n",
    "\n",
    "    @height.setter\n",
    "    def height(self, new_height):\n",
    "        if new_height > 0:\n",
    "            self._height = new_height # self.width creates recursion error\n",
    "        else:\n",
    "            print('Height must be positive number.')\n",
    "    \n",
    "    def calculate_area(self):\n",
    "        return self.width * self.height\n",
    "    \n",
    "\n",
    "\n",
    "rectangle1 = Rectangle(5,6)\n",
    "rectangle2 = Rectangle(3,4)\n",
    "rectangle3 = Rectangle(2,3)\n",
    "\n",
    "rectangle1.width = -1\n",
    "rectangle2.width = 3\n",
    "rectangle3.height = -10\n",
    "rectangle2.height = 90\n",
    "\n",
    "print(rectangle1.width)\n",
    "print(rectangle2.width)\n",
    "print(rectangle3.width)\n",
    "print(rectangle1.height)\n",
    "print(rectangle2.height)\n",
    "print(rectangle3.height)\n",
    "\n",
    "rectangle1.calculate_area()\n",
    "rectangle2.calculate_area()\n",
    "rectangle3.calculate_area()\n"
   ]
  }
 ],
 "metadata": {
  "kernelspec": {
   "display_name": "Python 3",
   "language": "python",
   "name": "python3"
  },
  "language_info": {
   "codemirror_mode": {
    "name": "ipython",
    "version": 3
   },
   "file_extension": ".py",
   "mimetype": "text/x-python",
   "name": "python",
   "nbconvert_exporter": "python",
   "pygments_lexer": "ipython3",
   "version": "3.11.1"
  }
 },
 "nbformat": 4,
 "nbformat_minor": 2
}
