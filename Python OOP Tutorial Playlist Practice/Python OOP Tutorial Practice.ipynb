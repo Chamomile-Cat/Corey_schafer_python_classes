{
 "cells": [
  {
   "cell_type": "code",
   "execution_count": 12,
   "metadata": {},
   "outputs": [
    {
     "name": "stdout",
     "output_type": "stream",
     "text": [
      "Title: Narnia\n",
      "Author: CS Lewis\n",
      "Year: 2009\n",
      "Title: Harry Potter\n",
      "Author: Rowling\n",
      "Year: 2000\n",
      "Title: Frankenstein\n",
      "Author: Mary Shelley\n",
      "Year: 1980\n",
      "3\n"
     ]
    }
   ],
   "source": [
    "# how can I tell when to use class?\n",
    "# how can I tell what should be class variables etc\n",
    "# how to design code, design classes\n",
    "\n",
    "class Book():\n",
    "    genre = 'Fiction'\n",
    "    library_count = 0\n",
    "\n",
    "    def __init__(self, title, author, publication_year):\n",
    "        self.title = title\n",
    "        self.author = author\n",
    "        self.publication_year = publication_year\n",
    "\n",
    "        Book.library_count += 1\n",
    "\n",
    "    def book_details(self):\n",
    "        print('Title: {}'.format(self.title))\n",
    "        print('Author: {}'.format(self.author))\n",
    "        print('Year: {}'.format(self.publication_year))\n",
    "\n",
    "book1 = Book('Narnia', 'CS Lewis', 2009)\n",
    "book2 = Book('Harry Potter', 'Rowling', 2000)\n",
    "book3 = Book('Frankenstein', 'Mary Shelley', 1980)\n",
    "\n",
    "book1.book_details()\n",
    "book2.book_details()\n",
    "book3.book_details()\n",
    "\n",
    "print(Book.library_count)"
   ]
  },
  {
   "cell_type": "code",
   "execution_count": 28,
   "metadata": {},
   "outputs": [
    {
     "name": "stdout",
     "output_type": "stream",
     "text": [
      "Fiction\n",
      "Fiction\n",
      "Poems\n"
     ]
    }
   ],
   "source": [
    "class Ebook(Book):\n",
    "    def __init__(self, title, author, publication_year, file_size):\n",
    "        # Ebook.__init__(self, title, author, publication_year)\n",
    "        super().__init__(title, author, publication_year)\n",
    "        self.file_size = file_size\n",
    "\n",
    "    def __str__(self):\n",
    "        return 'The title is {}. The author is {}. The book was published in {}. The file size is {}'.format(self.title, self.author, self.publication_year, self.file_size)\n",
    "    \n",
    "    @classmethod  # directly change class ex) class variable\n",
    "    def change_genre(cls):\n",
    "        Ebook.genre = 'Poems'\n",
    "\n",
    "Ebook1 = Ebook('Daemian', 'Herman', 2000, 19)\n",
    "Ebook2 = Ebook('The Great Gatsby', 'Fitsgerald', 1980, 20)\n",
    "    \n",
    "Ebook1\n",
    "print(Ebook1.genre)\n",
    "Ebook2\n",
    "print(Ebook2.genre)\n",
    "\n",
    "Ebook.change_genre()\n",
    "Ebook3 = Ebook('Mother', 'Cat', 1950, 10)\n",
    "Ebook3.__str__()\n",
    "print(Ebook3.genre)"
   ]
  },
  {
   "cell_type": "code",
   "execution_count": 35,
   "metadata": {},
   "outputs": [
    {
     "name": "stdout",
     "output_type": "stream",
     "text": [
      "Yonsei University\n",
      "Seoul National University\n",
      "English\n",
      "There is no assigned major.\n",
      "Math\n",
      "Math\n",
      "[Student(Matthew), Student(Abigail)]\n",
      "Two or more people need to form a study group\n",
      "None\n",
      "The nose sound is noisy\n"
     ]
    }
   ],
   "source": [
    "class Student():\n",
    "\n",
    "    school = \"Yonsei University\"\n",
    "    def __init__(self, name):\n",
    "        self.name = name\n",
    "    \n",
    "    def __repr__(self):\n",
    "        return 'Student({})'.format(self.name) # eval은 내부에 들어온 식을 실행\n",
    "\n",
    "\n",
    "\n",
    "\n",
    "class CollegeStudent(Student): # class not def\n",
    "\n",
    "    def __init__(self, name, major):\n",
    "        Student.__init__(self, name)\n",
    "        self.major = major\n",
    "\n",
    "    def __add__(self, other): # do not forget other, adding more than two students to a study group\n",
    "        if self is not other:\n",
    "            return [self, other]\n",
    "        else:\n",
    "            print('Two or more people need to form a study group')\n",
    "\n",
    "    @property\n",
    "    def get_major(self):\n",
    "        return self.major\n",
    "    \n",
    "    @get_major.setter # set a new value for variable, reason why called 'setter'\n",
    "    def get_major(self, new_major):\n",
    "        if new_major == '':\n",
    "            print('There is no assigned major.')\n",
    "        else:\n",
    "            self.major = new_major.capitalize()\n",
    "\n",
    "    @get_major.deleter\n",
    "    def get_major(self):\n",
    "        print('Majors deleted.')\n",
    "        self.major = None\n",
    "\n",
    "    @classmethod\n",
    "    def change_school(self, new_school):\n",
    "        self.school = new_school\n",
    "    \n",
    "    @staticmethod\n",
    "    def change_string(string):\n",
    "        return string.capitalize() # built-in functions require ()\n",
    "\n",
    "student1 = Student('Jake')\n",
    "student2 = CollegeStudent('Matthew', '')\n",
    "student3 = CollegeStudent('Abigail', 'English')\n",
    "\n",
    "print(student3.school)\n",
    "student3.change_school('Seoul National University')\n",
    "print(student3.school)\n",
    "\n",
    "print(student3.get_major) # accesses property to get value\n",
    "student3.get_major = '' # no parentheses, use = when using setter\n",
    "student3.get_major = 'math'\n",
    "print(student3.major)\n",
    "student3.get_major = 'Math'\n",
    "print(student3.major)\n",
    "\n",
    "print(student2 + student3)\n",
    "print(student2 + student2)\n",
    "\n",
    "print(CollegeStudent.change_string('the nose sound is noisy'))"
   ]
  }
 ],
 "metadata": {
  "kernelspec": {
   "display_name": "Python 3",
   "language": "python",
   "name": "python3"
  },
  "language_info": {
   "codemirror_mode": {
    "name": "ipython",
    "version": 3
   },
   "file_extension": ".py",
   "mimetype": "text/x-python",
   "name": "python",
   "nbconvert_exporter": "python",
   "pygments_lexer": "ipython3",
   "version": "3.11.1"
  },
  "orig_nbformat": 4
 },
 "nbformat": 4,
 "nbformat_minor": 2
}
