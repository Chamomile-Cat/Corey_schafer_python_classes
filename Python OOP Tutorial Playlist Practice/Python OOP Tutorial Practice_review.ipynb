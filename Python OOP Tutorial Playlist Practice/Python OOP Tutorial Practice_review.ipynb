{
 "cells": [
  {
   "cell_type": "markdown",
   "metadata": {},
   "source": [
    "### Adding New Variables to a Subclass"
   ]
  },
  {
   "cell_type": "code",
   "execution_count": 1,
   "metadata": {},
   "outputs": [
    {
     "name": "stdout",
     "output_type": "stream",
     "text": [
      "S\n",
      "A\n"
     ]
    }
   ],
   "source": [
    "class Person():\n",
    "    def __init__(self, name, age):\n",
    "        self.name = name\n",
    "        self.age = age\n",
    "\n",
    "class Student(Person):\n",
    "    def __init__(self, name, age, grade):\n",
    "        super().__init__(name, age)\n",
    "        # Student.__init__(self, name, age)\n",
    "        self.grade = grade\n",
    "\n",
    "student1 = Student('Eli', 28, 'S')\n",
    "student2 = Student('Mark', 23, 'A')\n",
    "\n",
    "print(student1.grade)\n",
    "print(student2.grade)"
   ]
  },
  {
   "cell_type": "code",
   "execution_count": 2,
   "metadata": {},
   "outputs": [
    {
     "name": "stdout",
     "output_type": "stream",
     "text": [
      "Toyota\n",
      "Corona\n",
      "20\n",
      "BMW\n",
      "S class\n",
      "30\n"
     ]
    }
   ],
   "source": [
    "class Vehicle():\n",
    "\n",
    "    def __init__(self, make, model):\n",
    "        self.make = make\n",
    "        self.model = model\n",
    "\n",
    "\n",
    "\n",
    "class Car(Vehicle):\n",
    "    \n",
    "    def __init__(self, make, model, mileage):\n",
    "        super().__init__(make, model)\n",
    "        # Car.__init__(self, make, model)\n",
    "        self.mileage = mileage\n",
    "\n",
    "car1 = Car('Toyota', 'Corona', 20)\n",
    "car2 = Car('BMW', 'S class', 30)\n",
    "\n",
    "print(car1.make)\n",
    "print(car1.model)\n",
    "print(car1.mileage)\n",
    "\n",
    "print(car2.make)\n",
    "print(car2.model)\n",
    "print(car2.mileage)"
   ]
  },
  {
   "cell_type": "code",
   "execution_count": 3,
   "metadata": {},
   "outputs": [
    {
     "name": "stdout",
     "output_type": "stream",
     "text": [
      "bird\n",
      "20\n",
      "Mark\n"
     ]
    }
   ],
   "source": [
    "class Animal():\n",
    "\n",
    "    def __init__(self, species, age):\n",
    "        self.species = species\n",
    "        self.age = age\n",
    "\n",
    "\n",
    "class Pet(Animal):\n",
    "\n",
    "    def __init__(self, species, age, name):\n",
    "        Animal.__init__(self, species, age)\n",
    "        self.name = name\n",
    "\n",
    "pet1 = Pet('bird', 20, 'Mark')\n",
    "\n",
    "print(pet1.species)\n",
    "print(pet1.age)\n",
    "print(pet1.name)"
   ]
  },
  {
   "cell_type": "code",
   "execution_count": 22,
   "metadata": {},
   "outputs": [
    {
     "name": "stdout",
     "output_type": "stream",
     "text": [
      "{'name': 'Paper', 'price': 40, 'file_size': 50}\n",
      "{'name': 'Coffee', 'price': 10, 'file_size': 20}\n"
     ]
    }
   ],
   "source": [
    "class Product():\n",
    "\n",
    "    def __init__(self, name, price):\n",
    "        self.name = name\n",
    "        self.price = price\n",
    "\n",
    "class DigitalProduct(Product):\n",
    "\n",
    "    def __init__(self, name, price, file_size):\n",
    "        Product.__init__(self, name, price)\n",
    "        self.file_size = file_size\n",
    "\n",
    "    def get_all_attributes(self): \n",
    "        print(vars(self))\n",
    "\n",
    "\n",
    "digitalproduct1 = DigitalProduct('Paper', 40, 50)\n",
    "digitalproduct2 = DigitalProduct('Coffee', 10, 20)\n",
    "\n",
    "DigitalProduct.get_all_attributes(digitalproduct1)\n",
    "digitalproduct2.get_all_attributes()\n"
   ]
  },
  {
   "cell_type": "code",
   "execution_count": 23,
   "metadata": {},
   "outputs": [
    {
     "name": "stdout",
     "output_type": "stream",
     "text": [
      "Red\n",
      "10\n"
     ]
    }
   ],
   "source": [
    "class Shape(): # 상하계층이 important\n",
    "    \n",
    "    def __init__(self, color):\n",
    "        self.color = color\n",
    "\n",
    "class Circle():\n",
    "\n",
    "    def __init__(self, color, radius):\n",
    "        Shape.__init__(self, color)\n",
    "        self.radius = radius\n",
    "\n",
    "circle1 = Circle('Red', 10)\n",
    "\n",
    "print(circle1.color)\n",
    "print(circle1.radius)"
   ]
  },
  {
   "cell_type": "markdown",
   "metadata": {},
   "source": [
    "### Using Getters, Setters, and Deleters in a class"
   ]
  },
  {
   "cell_type": "code",
   "execution_count": 24,
   "metadata": {},
   "outputs": [
    {
     "name": "stdout",
     "output_type": "stream",
     "text": [
      "20\n",
      "30\n",
      "Delete Balance\n",
      "None\n"
     ]
    }
   ],
   "source": [
    "class BankAccount():\n",
    "    def __init__(self, balance):\n",
    "        self._balance = balance # property, value\n",
    "    \n",
    "    @property # function for controlled access to property\n",
    "    def balance(self):\n",
    "        return self._balance # returns property\n",
    "\n",
    "    @balance.setter # property에 variable을 set하자\n",
    "    def balance(self, new_balance): \n",
    "        self._balance = new_balance  # call property, set to new value\n",
    "                                     # if self.balance,  recursion error because setter 내 setter\n",
    "\n",
    "\n",
    "    @balance.deleter\n",
    "    def balance(self):\n",
    "        print(\"Delete Balance\")\n",
    "        self._balance = None\n",
    "\n",
    "bankaccount1 = BankAccount(20)\n",
    "print(bankaccount1.balance)\n",
    "\n",
    "bankaccount1.balance = 30 # not () use =\n",
    "print(bankaccount1.balance)\n",
    "\n",
    "del bankaccount1.balance\n",
    "print(bankaccount1.balance)"
   ]
  },
  {
   "cell_type": "code",
   "execution_count": 7,
   "metadata": {},
   "outputs": [
    {
     "name": "stdout",
     "output_type": "stream",
     "text": [
      "Temperature not in reasonable range.\n",
      "Temperature not in reasonable range.\n",
      "20\n",
      "Deleting temperature.\n",
      "None\n"
     ]
    }
   ],
   "source": [
    "class Temperature():\n",
    "\n",
    "    def __init__(self, celsius):\n",
    "        self._celsius = celsius # _celsius is an attribute (not property) whose value is celsisus\n",
    "\n",
    "    @property  # must for getter, setter, and deleter\n",
    "    def property_celsius(self): # property_celsius is now method can be accessed as attribute, returns self._celsisus\n",
    "        return self._celsius\n",
    "    \n",
    "    @property_celsius.setter # set celsius to, self.celsius = 39 calls setter\n",
    "    def property_celsius(self, celsius):\n",
    "        if celsius >= -20 and celsius <= 100:\n",
    "            self._celsius = celsius # call setter, set self.celsius to _celisus\n",
    "        else:\n",
    "            print('Temperature not in reasonable range.')\n",
    "    \n",
    "    @property_celsius.deleter\n",
    "    def property_celsius(self):\n",
    "        self._celsius = None # call setter\n",
    "        print('Deleting temperature.')\n",
    "\n",
    "\n",
    "\n",
    "temp1 = Temperature(10)\n",
    "temp1.property_celsius = -100 # setter not () use =\n",
    "temp1.property_celsius = -120\n",
    "temp1.property_celsius = 20\n",
    "print(temp1._celsius) # 어떤 변수가 무엇인지 잘 모르겠으면, 반드시 F2를 사용해서 변수 바꾸자\n",
    "\n",
    "del temp1.property_celsius # does deleter method\n",
    "print(temp1._celsius)\n",
    "\n",
    "del temp1._celsius # deletes _celsius attribute\n",
    "# print(temp1._celsius) results in an error\n"
   ]
  },
  {
   "cell_type": "code",
   "execution_count": 1,
   "metadata": {},
   "outputs": [
    {
     "name": "stdout",
     "output_type": "stream",
     "text": [
      "Temperature not in reasonable range.\n",
      "Temperature not in reasonable range.\n",
      "20\n",
      "Deleting temperature.\n",
      "None\n"
     ]
    }
   ],
   "source": [
    "class Temperature():\n",
    "\n",
    "    def __init__(self, celsius):\n",
    "        self._celsius = celsius # _celsius is an attribute (not property) whose value is celsisus\n",
    "\n",
    "    @property  # easier for getter, setter, and deleter, not must\n",
    "               # celsius becomes property, a special form of attribute\n",
    "    def celsius(self): # not celsius in __init__\n",
    "        return self._celsius # self._celsius needed to access attribute, self.celsius only return value\n",
    "    \n",
    "    @celsius.setter # set celsius to, self.celsius = 39 calls setter\n",
    "    def celsius(self, celsius):\n",
    "        if celsius >= -20 and celsius <= 100:\n",
    "            self._celsius = celsius # call setter, set self.celsius to _celisus\n",
    "                                    # if self.celsius = celsius, crash b/c recursion error b/c setter 내에 setter가 작동\n",
    "        else:\n",
    "            print('Temperature not in reasonable range.')\n",
    "    \n",
    "    @celsius.deleter\n",
    "    def get_celsius(self):\n",
    "        self._celsius = None # call setter\n",
    "        print('Deleting temperature.')\n",
    "\n",
    "\n",
    "\n",
    "temp1 = Temperature(10)\n",
    "temp1.celsius = -100 # setter not () use =\n",
    "\n",
    "temp1.celsius = -120\n",
    "temp1.celsius = 20\n",
    "print(temp1._celsius) # 어떤 변수가 무엇인지 잘 모르겠으면, 반드시 F2를 사용해서 변수 바꾸자\n",
    "\n",
    "del temp1.get_celsius # does deleter method\n",
    "print(temp1._celsius)\n",
    "\n",
    "del temp1._celsius # deletes _celsius attribute\n",
    "# print(temp1._celsius) results in an error\n"
   ]
  },
  {
   "cell_type": "code",
   "execution_count": 5,
   "metadata": {},
   "outputs": [
    {
     "name": "stdout",
     "output_type": "stream",
     "text": [
      "A\n",
      "Grades must be from A to F.\n",
      "B\n",
      "Deleting grades.\n",
      "None\n"
     ]
    }
   ],
   "source": [
    "class Student():\n",
    "\n",
    "    def __init__(self, grade):\n",
    "        self._grade = grade\n",
    "    \n",
    "    @property\n",
    "    def property_grade(self): # defined as a property NOT A FUNCTION, USE = NOT ()\n",
    "        return self._grade\n",
    "    \n",
    "    @property_grade.setter\n",
    "    def property_grade(self, new_grade):\n",
    "        if new_grade in ['A', 'B', 'C', 'D', 'E', 'F']:\n",
    "            self._grade = new_grade\n",
    "        else:\n",
    "            print('Grades must be from A to F.')\n",
    "\n",
    "    @property_grade.deleter\n",
    "    def property_grade(self):\n",
    "        print('Deleting grades.')\n",
    "        self._grade = None\n",
    "    \n",
    "\n",
    "student1 = Student('A')\n",
    "print(student1._grade) # gets attribute not value\n",
    "\n",
    "student1.property_grade = 'Z' # use = not ()\n",
    "\n",
    "student1.property_grade = 'B' \n",
    "print(student1._grade)\n",
    "\n",
    "del student1.property_grade\n",
    "print(student1._grade)\n",
    "\n",
    "\n"
   ]
  },
  {
   "cell_type": "code",
   "execution_count": 11,
   "metadata": {},
   "outputs": [
    {
     "name": "stdout",
     "output_type": "stream",
     "text": [
      "20\n",
      "<class 'int'>\n",
      "<class 'int'>\n",
      "<class 'int'>\n",
      "<class 'int'>\n",
      "Salary must be a positive number.\n",
      "20\n",
      "Salary is being deleted.\n",
      "None\n"
     ]
    }
   ],
   "source": [
    "class Employee():\n",
    "    \n",
    "    def __init__(self, salary):\n",
    "        self._salary = salary\n",
    "    \n",
    "    @property # getter, get attribute\n",
    "    def salary(self):\n",
    "        return self._salary # access to attribute\n",
    "    \n",
    "    @salary.setter\n",
    "    def salary(self, new_salary):\n",
    "        if new_salary > 0:\n",
    "            self._salary = new_salary # if self.salary = new_salary recursion error b/c setter 내에 setter\n",
    "        else:\n",
    "            print('Salary must be a positive number.')\n",
    "\n",
    "    @salary.deleter\n",
    "    def salary(self):\n",
    "        print('Salary is being deleted.')\n",
    "        self._salary = None\n",
    "\n",
    "Employee1 = Employee(20)\n",
    "Employee2 = Employee(30)\n",
    "\n",
    "print(Employee1._salary)\n",
    "\n",
    "print(type(Employee1.salary)) # gets value\n",
    "print(type(Employee2.salary))\n",
    "print(type(Employee1._salary)) # gets attribute, type still int\n",
    "print(type(Employee2._salary))\n",
    "\n",
    "Employee1.salary = -1\n",
    "\n",
    "Employee1.salary = 20\n",
    "print(Employee1._salary)\n",
    "\n",
    "del Employee2.salary # deletes value\n",
    "# del Employee2.salary # deletes attribute as a whole\n",
    "print(Employee2._salary)"
   ]
  }
 ],
 "metadata": {
  "kernelspec": {
   "display_name": "Python 3",
   "language": "python",
   "name": "python3"
  },
  "language_info": {
   "codemirror_mode": {
    "name": "ipython",
    "version": 3
   },
   "file_extension": ".py",
   "mimetype": "text/x-python",
   "name": "python",
   "nbconvert_exporter": "python",
   "pygments_lexer": "ipython3",
   "version": "3.11.1"
  },
  "orig_nbformat": 4
 },
 "nbformat": 4,
 "nbformat_minor": 2
}
