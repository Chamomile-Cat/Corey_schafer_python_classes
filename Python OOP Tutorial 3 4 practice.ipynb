{
 "cells": [
  {
   "cell_type": "code",
   "execution_count": 28,
   "metadata": {},
   "outputs": [],
   "source": [
    "import datetime"
   ]
  },
  {
   "cell_type": "code",
   "execution_count": 29,
   "metadata": {},
   "outputs": [
    {
     "name": "stdout",
     "output_type": "stream",
     "text": [
      "Hello! My name is Eli\n",
      "Hello! My name is Abigail\n",
      "Hello! My name is Pharah\n",
      "3\n",
      "True\n",
      "False\n",
      "True\n"
     ]
    }
   ],
   "source": [
    "# Regular methods, class methods, statitc methods\n",
    "\n",
    "class person():\n",
    "    population = 0\n",
    "\n",
    "    def __init__(self, name, age):\n",
    "        self.name = name\n",
    "        self.age = age\n",
    "        self.login_id = name + str(age)\n",
    "\n",
    "        person.population += 1\n",
    "    \n",
    "    \n",
    "    @classmethod\n",
    "    def from_birth_year(cls, name, birth_year):\n",
    "        today = datetime.datetime.now()\n",
    "        current_year = today.year\n",
    "        calculated_age = current_year - birth_year\n",
    "\n",
    "        return person(name, calculated_age)\n",
    "\n",
    "\n",
    "    def greet(self):\n",
    "        return \"Hello! My name is {}\".format(self.name)\n",
    "\n",
    "\n",
    "    @classmethod\n",
    "    def total_population(cls):\n",
    "        return person.population\n",
    "    \n",
    "    \n",
    "    def is_adult(self):\n",
    "        if self.age >= 18:\n",
    "            return True\n",
    "        else:\n",
    "            return False\n",
    "\n",
    "person1 = person('Eli', 29)\n",
    "person2 = person('Abigail',17)\n",
    "person3 = person.from_birth_year('Pharah', 23)\n",
    "\n",
    "print(person1.greet())\n",
    "print(person2.greet())\n",
    "print(person3.greet())\n",
    "\n",
    "print(person.total_population())\n",
    "\n",
    "print(person.is_adult(person1))\n",
    "print(person.is_adult(person2))\n",
    "print(person.is_adult(person3))\n",
    "\n"
   ]
  },
  {
   "cell_type": "code",
   "execution_count": 30,
   "metadata": {},
   "outputs": [
    {
     "name": "stdout",
     "output_type": "stream",
     "text": [
      "Hello! My name is Mark. My student ID is 2019330433.\n",
      "Hello! My name is Jam. My student ID is 2018333333.\n",
      "Hello! My name is Charlie. My student ID is 2015888888.\n",
      "True\n",
      "False\n",
      "True\n",
      "True\n",
      "False\n"
     ]
    }
   ],
   "source": [
    "class student(person):\n",
    "    def __init__(self, name, age, student_id): \n",
    "        super().__init__(name, age) # inherit from parent class\n",
    "        self.student_id = student_id\n",
    "\n",
    "    def greet(self):\n",
    "        return \"Hello! My name is {}. My student ID is {}.\".format(self.name, self.student_id)\n",
    "    \n",
    "    @staticmethod # static method becaue does not call instance nor class \n",
    "    def is_college_student(age_entered):\n",
    "        if age_entered > 18 and age_entered < 25:\n",
    "            return True\n",
    "        else:\n",
    "            return False\n",
    "\n",
    "student1 = student('Mark', 24, 2019330433)\n",
    "student2 = student('Jam', 15, 2018333333)\n",
    "student3 = student('Charlie', 20, 2015888888)\n",
    "\n",
    "print(student1.greet())\n",
    "print(student2.greet())\n",
    "print(student3.greet())\n",
    "\n",
    "print(person.is_adult(student1))\n",
    "print(person.is_adult(student2))\n",
    "print(person.is_adult(student3))\n",
    "\n",
    "print(student.is_college_student(19))\n",
    "print(student.is_college_student(28))"
   ]
  },
  {
   "cell_type": "code",
   "execution_count": 33,
   "metadata": {},
   "outputs": [
    {
     "name": "stdout",
     "output_type": "stream",
     "text": [
      "Hornet\n",
      "40\n",
      "Science\n",
      "Hornet40\n",
      "Aspid34\n"
     ]
    }
   ],
   "source": [
    "class teacher(person):\n",
    "    def __init__(self, name, age, subject):\n",
    "        person.__init__(self, name, age)\n",
    "        self.subject = subject\n",
    "\n",
    "teacher1 = teacher('Hornet', 40, 'Math')\n",
    "teacher2 = teacher('Aspid', 34, 'Science')\n",
    "\n",
    "print(teacher1.name)\n",
    "print(teacher1.age)\n",
    "print(teacher2.subject)\n",
    "\n",
    "print(teacher1.login_id)\n",
    "print(teacher2.login_id)\n",
    "\n",
    "# useful because do not have to repeat the __init__ code nor methods in the person class all over when creating teacher or student classes. "
   ]
  },
  {
   "cell_type": "code",
   "execution_count": 34,
   "metadata": {},
   "outputs": [
    {
     "name": "stdout",
     "output_type": "stream",
     "text": [
      "True\n",
      "True\n",
      "False\n",
      "False\n",
      "True\n",
      "True\n",
      "False\n"
     ]
    }
   ],
   "source": [
    "# practicing isintance, issubclas\n",
    "\n",
    "print(isinstance(teacher1, teacher))\n",
    "print(isinstance(student1, student))\n",
    "print(isinstance(student1, teacher))\n",
    "print(isinstance(teacher1, student))\n",
    "\n",
    "print(issubclass(student, person))\n",
    "print(issubclass(teacher, person))\n",
    "print(issubclass(student, teacher))"
   ]
  }
 ],
 "metadata": {
  "kernelspec": {
   "display_name": "Python 3",
   "language": "python",
   "name": "python3"
  },
  "language_info": {
   "codemirror_mode": {
    "name": "ipython",
    "version": 3
   },
   "file_extension": ".py",
   "mimetype": "text/x-python",
   "name": "python",
   "nbconvert_exporter": "python",
   "pygments_lexer": "ipython3",
   "version": "3.11.1"
  },
  "orig_nbformat": 4
 },
 "nbformat": 4,
 "nbformat_minor": 2
}
