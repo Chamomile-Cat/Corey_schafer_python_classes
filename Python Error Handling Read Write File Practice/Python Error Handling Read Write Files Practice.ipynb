{
 "cells": [
  {
   "cell_type": "code",
   "execution_count": 9,
   "metadata": {},
   "outputs": [
    {
     "name": "stdout",
     "output_type": "stream",
     "text": [
      "Sorry, there is no file called d. Perhaps you forgot to put .txt at the end?\n",
      "You have reached the end of the code.\n"
     ]
    }
   ],
   "source": [
    "# Try reading file with file_name\n",
    "file_name = input('Which file do you wish to open? ')\n",
    "\n",
    "'''\n",
    "if file_name exists, file is read & printed\n",
    "if file_name given without .txt, then print 'Sorry, there is no file called {}. Perhaps you forgot to put .txt at the end?'\n",
    "if file_name does not exist with .txt, then print 'Sorry, there is no file called {}.'\n",
    "'''\n",
    "\n",
    "try:\n",
    "    with open(file_name, 'r') as f:\n",
    "        f_contents = f.read()\n",
    "except FileNotFoundError:\n",
    "    # In case simply forgot .txt extension at end\n",
    "    if file_name[:-4] != '.txt':\n",
    "        print('Sorry, there is no file called {}. Perhaps you forgot to put .txt at the end?'.format(file_name))\n",
    "    else:\n",
    "        # Print if found\n",
    "        print('Sorry, there is no file called {}.'.format(file_name))\n",
    "else:\n",
    "    print(f_contents)\n",
    "finally:\n",
    "    print('You have reached the end of the code.')"
   ]
  },
  {
   "cell_type": "code",
   "execution_count": 10,
   "metadata": {},
   "outputs": [
    {
     "name": "stdout",
     "output_type": "stream",
     "text": [
      "File successfully created.\n",
      "You reached the end of the code.\n"
     ]
    }
   ],
   "source": [
    "# writes text into file_name.txt\n",
    "file_name = input('What is the name of file? ')\n",
    "text = input('What do you wish to write? ')\n",
    "\n",
    "try:\n",
    "    with open(file_name, 'w') as f:\n",
    "        f.write(text)\n",
    "except Exception:\n",
    "    print('Error occured')\n",
    "else:\n",
    "    print('File successfully created.')\n",
    "finally:\n",
    "    print('You reached the end of the code.')"
   ]
  },
  {
   "cell_type": "code",
   "execution_count": 43,
   "metadata": {},
   "outputs": [
    {
     "name": "stdout",
     "output_type": "stream",
     "text": [
      "The file is empty.\n"
     ]
    }
   ],
   "source": [
    "'''\n",
    "Reads a file & processes its content \n",
    "Count 1) the number of lines 2) words 3) characters \n",
    "& Print 1) ~ 3)\n",
    "\n",
    "Implement error handling\n",
    "'''\n",
    "\n",
    "file_name = input('Which file do you wish to read? ')\n",
    "\n",
    "try:\n",
    "    # open files with context manager\n",
    "    f = open(file_name, 'r')\n",
    "\n",
    "    # read file from beginning to end\n",
    "    lines = f.readlines() \n",
    "\n",
    "    # get word and character count\n",
    "    word_count = sum(len(line.split()) for line in lines) \n",
    "    character_count = sum(len(line) for line in lines) \n",
    "\n",
    "    # if file is empty, raise Type error\n",
    "    # empty file not usally error\n",
    "    if lines == []: \n",
    "        raise TypeError\n",
    "\n",
    "except TypeError:\n",
    "    print('The file is empty.')\n",
    "\n",
    "except FileNotFoundError:\n",
    "    print('Sorry, there is no file called {}. Maybe you forgot to put .txt at the end?'.format(file_name))\n",
    "\n",
    "else:\n",
    "    print('''\n",
    "    The file you read has:\n",
    "    {} number of lines\n",
    "    {} words\n",
    "    {} characters.\n",
    "    '''.format(len(lines), word_count, character_count))\n",
    "\n",
    "finally:\n",
    "    f.close()\n",
    "\n",
    "\n"
   ]
  },
  {
   "cell_type": "code",
   "execution_count": 1,
   "metadata": {},
   "outputs": [
    {
     "name": "stdout",
     "output_type": "stream",
     "text": [
      "\n",
      "    The file you read has:\n",
      "    1 number of lines\n",
      "    1 words\n",
      "    3 characters.\n",
      "    \n",
      "You have reached the end of the code.\n"
     ]
    }
   ],
   "source": [
    "'''\n",
    "Reads a file & processes its content \n",
    "Count 1) the number of lines 2) words 3) characters \n",
    "& Print 1) ~ 3)\n",
    "\n",
    "Implement error handling\n",
    "'''\n",
    "\n",
    "file_name = input('Which file do you wish to read? ')\n",
    "\n",
    "try:\n",
    "    # open files with context manager\n",
    "    with open(file_name, 'r') as f:\n",
    "        # read file from beginning to end\n",
    "        lines = f.readlines() \n",
    "\n",
    "        # get word and character count\n",
    "        word_count = sum(len(line.split()) for line in lines) \n",
    "        character_count = sum(len(line) for line in lines) \n",
    "\n",
    "        # if file is empty, raise Type error\n",
    "        # empty file not usally error\n",
    "        if lines == []: \n",
    "            print('The file is empty')\n",
    "\n",
    "except FileNotFoundError:\n",
    "    print('Sorry, there is no file called {}. Maybe you forgot to put .txt at the end?'.format(file_name))\n",
    "\n",
    "except Exception:\n",
    "    print('Sorry, an unknown error occured.')\n",
    "\n",
    "else:\n",
    "    print('''\n",
    "    The file you read has:\n",
    "    {} number of lines\n",
    "    {} words\n",
    "    {} characters.\n",
    "    '''.format(len(lines), word_count, character_count))\n",
    "\n",
    "finally:\n",
    "    print('You have reached the end of the code.')\n",
    "\n",
    "\n"
   ]
  }
 ],
 "metadata": {
  "kernelspec": {
   "display_name": "Python 3",
   "language": "python",
   "name": "python3"
  },
  "language_info": {
   "codemirror_mode": {
    "name": "ipython",
    "version": 3
   },
   "file_extension": ".py",
   "mimetype": "text/x-python",
   "name": "python",
   "nbconvert_exporter": "python",
   "pygments_lexer": "ipython3",
   "version": "3.11.1"
  }
 },
 "nbformat": 4,
 "nbformat_minor": 2
}
