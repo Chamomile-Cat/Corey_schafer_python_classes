{
 "cells": [
  {
   "cell_type": "code",
   "execution_count": 3,
   "metadata": {},
   "outputs": [
    {
     "name": "stdout",
     "output_type": "stream",
     "text": [
      "This the data! You are a lovely person. "
     ]
    }
   ],
   "source": [
    "# Error handling while file reading\n",
    "\n",
    "file_name = input('Which file do you wish to read? ')\n",
    "chunk_size = 10\n",
    "\n",
    "try:\n",
    "    # read data in chunks in chunk_size\n",
    "    with open(file_name, 'r') as rf:\n",
    "        f_chunk = rf.read(chunk_size) \n",
    "        while len(f_chunk) > 0: \n",
    "            print(f_chunk, end='')\n",
    "            f_chunk = rf.read(chunk_size)\n",
    "except FileNotFoundError:\n",
    "    print('Sorry, {} does not exist.'.format(file_name))\n",
    "else:\n",
    "    print('File is sucessfully read.')\n",
    "finally:\n",
    "    print('You have reached the end of the code.')"
   ]
  },
  {
   "cell_type": "code",
   "execution_count": 5,
   "metadata": {},
   "outputs": [],
   "source": [
    "# Error handling while file writing\n",
    "\n",
    "# Get names of file to read and write into from the user\n",
    "read_file_name = input('Which file do you wish to read? ')\n",
    "write_file_name = input('What file do you wish to create? ')\n",
    "\n",
    "\n",
    "# try reading then copying file into write_name_file by chunk_size\n",
    "\n",
    "chunk_size = 10\n",
    "\n",
    "try:\n",
    "    # read data in chunks in chunk_size\n",
    "    with open(read_file_name, 'r') as rf:\n",
    "        with open(write_file_name, 'w') as wf:\n",
    "            f_chunk = rf.read(chunk_size) \n",
    "            while len(f_chunk) > 0: \n",
    "                wf.write(f_chunk)\n",
    "                f_chunk = rf.read(chunk_size)\n",
    "except FileNotFoundError:\n",
    "    print('Sorry, {} does not exist.'.format(read_file_name))\n",
    "else:\n",
    "    print('File {} is sucessfully copied into {}.'.format(read_file_name, write_file_name))\n",
    "finally:\n",
    "    print('You have reached the end of the code.')"
   ]
  },
  {
   "cell_type": "code",
   "execution_count": 7,
   "metadata": {},
   "outputs": [
    {
     "name": "stdout",
     "output_type": "stream",
     "text": [
      "Sorry, you can only copy image files to another image file.\n",
      "You have reached the end of the code.\n"
     ]
    }
   ],
   "source": [
    "# Error handling while file writing\n",
    "\n",
    "read_file_name = input('Which file do you wish to read? ')\n",
    "write_file_name = input('What file do you wish to create? ')\n",
    "\n",
    "chunk_size = 10\n",
    "\n",
    "try:\n",
    "    # read data in chunks in chunk_size\n",
    "    if read_file_name[-4:] == '.txt':\n",
    "        raise ValueError \n",
    "    if write_file_name[-4:] == '.txt':\n",
    "        raise ValueError \n",
    "    \n",
    "    with open(read_file_name, 'rb') as rf:\n",
    "        with open(write_file_name, 'wb') as wf:\n",
    "            f_chunk = rf.read(chunk_size) \n",
    "            while len(f_chunk) > 0: \n",
    "                wf.write(f_chunk)\n",
    "                f_chunk = rf.read(chunk_size)\n",
    "\n",
    "except ValueError:\n",
    "    print('Sorry, you can only copy image files to another image file.')\n",
    "except NameError:\n",
    "    print('Please input the file you wish to read and create.')\n",
    "except FileNotFoundError:\n",
    "    print('Sorry, {} does not exist.'.format(file_name))\n",
    "else:\n",
    "    print('File {} is sucessfully copied into {}.'.format(read_file_name, write_file_name))\n",
    "finally:\n",
    "    print('You have reached the end of the code.')"
   ]
  },
  {
   "cell_type": "code",
   "execution_count": 11,
   "metadata": {},
   "outputs": [
    {
     "name": "stdout",
     "output_type": "stream",
     "text": [
      "Please input the file you wish to read and create.\n",
      "You have reached the end of the code.\n"
     ]
    }
   ],
   "source": [
    "# Error handling while file writing\n",
    "\n",
    "read_file_name = input('Which file do you wish to read? ')\n",
    "write_file_name = input('What file do you wish to create? ')\n",
    "\n",
    "# if either files names are  not given\n",
    "if read_file_name == '' or write_file_name == '':\n",
    "    print('Please input the file you wish to read and create.')\n",
    "\n",
    "# if both file names are given\n",
    "# read data in chunks in chunk_size\n",
    "try:\n",
    "    # only image files should be read, not text files\n",
    "    if read_file_name.endswith('.txt') or write_file_name.endswith('.txt'):\n",
    "        raise ValueError ('Sorry, you can only copy image files to another image file.')\n",
    "    # read data in chunks in chunk_size\n",
    "\n",
    "    chunk_size = 10\n",
    "\n",
    "    with open(read_file_name, 'rb') as rf:\n",
    "        with open(write_file_name, 'wb') as wf:\n",
    "            f_chunk = rf.read(chunk_size) \n",
    "            while len(f_chunk) > 0: \n",
    "                wf.write(f_chunk)\n",
    "                f_chunk = rf.read(chunk_size)\n",
    "\n",
    "except ValueError as e:\n",
    "    print(e)\n",
    "except FileNotFoundError:\n",
    "    print('Sorry, {} does not exist.'.format(read_file_name))\n",
    "else:\n",
    "    print('File {} is sucessfully copied into {}.'.format(read_file_name, write_file_name))\n",
    "finally:\n",
    "    print('You have reached the end of the code.')"
   ]
  }
 ],
 "metadata": {
  "kernelspec": {
   "display_name": "Python 3",
   "language": "python",
   "name": "python3"
  },
  "language_info": {
   "codemirror_mode": {
    "name": "ipython",
    "version": 3
   },
   "file_extension": ".py",
   "mimetype": "text/x-python",
   "name": "python",
   "nbconvert_exporter": "python",
   "pygments_lexer": "ipython3",
   "version": "3.11.1"
  }
 },
 "nbformat": 4,
 "nbformat_minor": 2
}
